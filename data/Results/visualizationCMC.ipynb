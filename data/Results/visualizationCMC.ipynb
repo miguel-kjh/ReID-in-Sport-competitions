{
 "cells": [
  {
   "cell_type": "code",
   "execution_count": 9,
   "metadata": {
    "collapsed": true,
    "pycharm": {
     "name": "#%%\n"
    }
   },
   "outputs": [],
   "source": [
    "import pandas as pd\n",
    "import matplotlib.pyplot as plt"
   ]
  },
  {
   "cell_type": "code",
   "execution_count": 10,
   "outputs": [],
   "source": [
    "data = pd.read_csv(\"ReidentificationTests.csv\")"
   ],
   "metadata": {
    "collapsed": false,
    "pycharm": {
     "name": "#%%\n"
    }
   }
  },
  {
   "cell_type": "code",
   "execution_count": 11,
   "outputs": [],
   "source": [
    "MODELS  = [\"VGG-Face\", \"Facenet\", \"OpenFace\", \"Ensemble\"]\n",
    "\n",
    "def filterData(df: pd.DataFrame, query: str) -> pd.DataFrame:\n",
    "    return df.query(query, inplace = False)\n",
    "\n",
    "def stringToLst(string: str) -> list:\n",
    "    return list(\n",
    "        map( lambda x: float(x), string.split(\",\"))\n",
    "    )\n",
    "\n",
    "def displayCMC(df: pd.DataFrame, title: str):\n",
    "    print(title)\n",
    "\n",
    "    for model in MODELS:\n",
    "        df_model = filterData(df, 'Identification_Model == \"%s\"' % model)\n",
    "        for index in range(len(df_model)):\n",
    "            colum: pd.DataFrame = df.iloc[index]\n",
    "            label: str = model \\\n",
    "                if model == MODELS[-1] \\\n",
    "                else colum['Metric']\n",
    "            plt.plot(stringToLst(colum[\"Values\"]),\n",
    "                     label = label)\n",
    "            plt.xlabel(\"Posiciones de la calificación\")\n",
    "            plt.ylabel(\"Precisión\")\n",
    "            plt.grid(True)\n",
    "            plt.legend(loc='lower right')\n",
    "            plt.title(model)\n",
    "        plt.show()\n",
    "        print(model)\n",
    "        print(df_model[['Metric', 'mAPtop1', 'mAPtop5']])\n",
    "\n",
    "def plotCMC(df, query, title):\n",
    "    dataFilter = filterData(df, query)\n",
    "    displayCMC(dataFilter, title)"
   ],
   "metadata": {
    "collapsed": false,
    "pycharm": {
     "name": "#%%\n"
    }
   }
  },
  {
   "cell_type": "markdown",
   "source": [
    "## RetinaFace"
   ],
   "metadata": {
    "collapsed": false
   }
  },
  {
   "cell_type": "code",
   "execution_count": 12,
   "outputs": [
    {
     "name": "stdout",
     "output_type": "stream",
     "text": [
      "RetinaFace\n",
      "VGG-Face\n",
      "Empty DataFrame\n",
      "Columns: [Metric, mAPtop1, mAPtop5]\n",
      "Index: []\n",
      "Facenet\n",
      "Empty DataFrame\n",
      "Columns: [Metric, mAPtop1, mAPtop5]\n",
      "Index: []\n",
      "OpenFace\n",
      "Empty DataFrame\n",
      "Columns: [Metric, mAPtop1, mAPtop5]\n",
      "Index: []\n",
      "Ensemble\n",
      "Empty DataFrame\n",
      "Columns: [Metric, mAPtop1, mAPtop5]\n",
      "Index: []\n"
     ]
    }
   ],
   "source": [
    "plotCMC(data, 'Face_Model == \"retinaface\" and Heuristics == \"none\"', \"RetinaFace\")"
   ],
   "metadata": {
    "collapsed": false,
    "pycharm": {
     "name": "#%%\n"
    }
   }
  },
  {
   "cell_type": "code",
   "execution_count": 13,
   "outputs": [
    {
     "name": "stdout",
     "output_type": "stream",
     "text": [
      "RetinaFace + recorte\n",
      "VGG-Face\n",
      "   Metric   mAPtop1  mAPtop5\n",
      "0  cosine  0.413158  0.42193\n",
      "Facenet\n",
      "Empty DataFrame\n",
      "Columns: [Metric, mAPtop1, mAPtop5]\n",
      "Index: []\n",
      "OpenFace\n",
      "Empty DataFrame\n",
      "Columns: [Metric, mAPtop1, mAPtop5]\n",
      "Index: []\n",
      "Ensemble\n",
      "Empty DataFrame\n",
      "Columns: [Metric, mAPtop1, mAPtop5]\n",
      "Index: []\n"
     ]
    },
    {
     "data": {
      "text/plain": "<Figure size 432x288 with 1 Axes>",
      "image/png": "[encoded data removed]"
     },
     "metadata": {
      "needs_background": "light"
     },
     "output_type": "display_data"
    }
   ],
   "source": [
    "plotCMC(data, 'Face_Model == \"retinaface\" and Heuristics == \"dimension\"', \"RetinaFace + recorte\")"
   ],
   "metadata": {
    "collapsed": false,
    "pycharm": {
     "name": "#%%\n"
    }
   }
  },
  {
   "cell_type": "markdown",
   "source": [
    "## Img2pose"
   ],
   "metadata": {
    "collapsed": false
   }
  },
  {
   "cell_type": "code",
   "execution_count": 14,
   "outputs": [
    {
     "name": "stdout",
     "output_type": "stream",
     "text": [
      "Img2pose\n",
      "VGG-Face\n",
      "Empty DataFrame\n",
      "Columns: [Metric, mAPtop1, mAPtop5]\n",
      "Index: []\n",
      "Facenet\n",
      "Empty DataFrame\n",
      "Columns: [Metric, mAPtop1, mAPtop5]\n",
      "Index: []\n",
      "OpenFace\n",
      "Empty DataFrame\n",
      "Columns: [Metric, mAPtop1, mAPtop5]\n",
      "Index: []\n",
      "Ensemble\n",
      "Empty DataFrame\n",
      "Columns: [Metric, mAPtop1, mAPtop5]\n",
      "Index: []\n"
     ]
    }
   ],
   "source": [
    "plotCMC(data, 'Face_Model == \"img2pose\" and Heuristics == \"none\"', \"Img2pose\")"
   ],
   "metadata": {
    "collapsed": false,
    "pycharm": {
     "name": "#%%\n"
    }
   }
  },
  {
   "cell_type": "code",
   "execution_count": 15,
   "outputs": [
    {
     "name": "stdout",
     "output_type": "stream",
     "text": [
      "Img2pose + recorte de imagenes\n",
      "VGG-Face\n",
      "Empty DataFrame\n",
      "Columns: [Metric, mAPtop1, mAPtop5]\n",
      "Index: []\n",
      "Facenet\n",
      "Empty DataFrame\n",
      "Columns: [Metric, mAPtop1, mAPtop5]\n",
      "Index: []\n",
      "OpenFace\n",
      "Empty DataFrame\n",
      "Columns: [Metric, mAPtop1, mAPtop5]\n",
      "Index: []\n",
      "Ensemble\n",
      "Empty DataFrame\n",
      "Columns: [Metric, mAPtop1, mAPtop5]\n",
      "Index: []\n"
     ]
    }
   ],
   "source": [
    "plotCMC(data, 'Face_Model == \"img2pose\" and Heuristics == \"dimension\"', \"Img2pose + recorte de imagenes\")"
   ],
   "metadata": {
    "collapsed": false,
    "pycharm": {
     "name": "#%%\n"
    }
   }
  },
  {
   "cell_type": "code",
   "execution_count": 16,
   "outputs": [
    {
     "name": "stdout",
     "output_type": "stream",
     "text": [
      "[1, 0, 1, 2, 2]\n",
      "0.3333333333333333\n",
      "0.5555555555555555\n"
     ]
    },
    {
     "ename": "TypeError",
     "evalue": "average_precision_score() missing 2 required positional arguments: 'y_true' and 'y_score'",
     "output_type": "error",
     "traceback": [
      "\u001B[0;31m---------------------------------------------------------------------------\u001B[0m",
      "\u001B[0;31mTypeError\u001B[0m                                 Traceback (most recent call last)",
      "\u001B[0;32m<ipython-input-16-b53973a21abf>\u001B[0m in \u001B[0;36m<module>\u001B[0;34m\u001B[0m\n\u001B[1;32m     22\u001B[0m \u001B[0;34m\u001B[0m\u001B[0m\n\u001B[1;32m     23\u001B[0m \u001B[0;34m\u001B[0m\u001B[0m\n\u001B[0;32m---> 24\u001B[0;31m \u001B[0mprint\u001B[0m\u001B[0;34m(\u001B[0m\u001B[0maverage_precision_score\u001B[0m\u001B[0;34m(\u001B[0m\u001B[0;34m)\u001B[0m\u001B[0;34m)\u001B[0m\u001B[0;34m\u001B[0m\u001B[0;34m\u001B[0m\u001B[0m\n\u001B[0m",
      "\u001B[0;32m~/.local/lib/python3.8/site-packages/sklearn/utils/validation.py\u001B[0m in \u001B[0;36minner_f\u001B[0;34m(*args, **kwargs)\u001B[0m\n\u001B[1;32m     70\u001B[0m                           FutureWarning)\n\u001B[1;32m     71\u001B[0m         \u001B[0mkwargs\u001B[0m\u001B[0;34m.\u001B[0m\u001B[0mupdate\u001B[0m\u001B[0;34m(\u001B[0m\u001B[0;34m{\u001B[0m\u001B[0mk\u001B[0m\u001B[0;34m:\u001B[0m \u001B[0marg\u001B[0m \u001B[0;32mfor\u001B[0m \u001B[0mk\u001B[0m\u001B[0;34m,\u001B[0m \u001B[0marg\u001B[0m \u001B[0;32min\u001B[0m \u001B[0mzip\u001B[0m\u001B[0;34m(\u001B[0m\u001B[0msig\u001B[0m\u001B[0;34m.\u001B[0m\u001B[0mparameters\u001B[0m\u001B[0;34m,\u001B[0m \u001B[0margs\u001B[0m\u001B[0;34m)\u001B[0m\u001B[0;34m}\u001B[0m\u001B[0;34m)\u001B[0m\u001B[0;34m\u001B[0m\u001B[0;34m\u001B[0m\u001B[0m\n\u001B[0;32m---> 72\u001B[0;31m         \u001B[0;32mreturn\u001B[0m \u001B[0mf\u001B[0m\u001B[0;34m(\u001B[0m\u001B[0;34m**\u001B[0m\u001B[0mkwargs\u001B[0m\u001B[0;34m)\u001B[0m\u001B[0;34m\u001B[0m\u001B[0;34m\u001B[0m\u001B[0m\n\u001B[0m\u001B[1;32m     73\u001B[0m     \u001B[0;32mreturn\u001B[0m \u001B[0minner_f\u001B[0m\u001B[0;34m\u001B[0m\u001B[0;34m\u001B[0m\u001B[0m\n\u001B[1;32m     74\u001B[0m \u001B[0;34m\u001B[0m\u001B[0m\n",
      "\u001B[0;31mTypeError\u001B[0m: average_precision_score() missing 2 required positional arguments: 'y_true' and 'y_score'"
     ]
    }
   ],
   "source": [
    "from sklearn.metrics import average_precision_score\n",
    "\n",
    "def calculateAveragePrecision(dorsalList: list, query: int) -> tuple:\n",
    "        averagePrecision = []\n",
    "        count = 0\n",
    "        print(dorsalList)\n",
    "        for index, dorsal in enumerate(dorsalList):\n",
    "            if dorsal == query:\n",
    "                count += 1\n",
    "                averagePrecision.append(count / (index + 1))\n",
    "            else:\n",
    "                averagePrecision.append(0)\n",
    "\n",
    "        return averagePrecision[0], sum(averagePrecision)\n",
    "\n",
    "dorsal = 1\n",
    "dorsalList = [1,0,1,2,2,3,2,1,4,5,6,7]\n",
    "countTP = 1 / dorsalList.count(dorsal)\n",
    "res = calculateAveragePrecision(dorsalList[0:5], dorsal)\n",
    "print(countTP * res[0])\n",
    "print(countTP * res[1])\n",
    "\n",
    "\n",
    "print(average_precision_score())"
   ],
   "metadata": {
    "collapsed": false,
    "pycharm": {
     "name": "#%%\n"
    }
   }
  }
 ],
 "metadata": {
  "kernelspec": {
   "name": "python3",
   "language": "python",
   "display_name": "Python 3"
  },
  "language_info": {
   "codemirror_mode": {
    "name": "ipython",
    "version": 2
   },
   "file_extension": ".py",
   "mimetype": "text/x-python",
   "name": "python",
   "nbconvert_exporter": "python",
   "pygments_lexer": "ipython2",
   "version": "2.7.6"
  }
 },
 "nbformat": 4,
 "nbformat_minor": 0
}